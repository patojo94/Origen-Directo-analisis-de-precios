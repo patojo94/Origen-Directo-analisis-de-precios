{
 "cells": [
  {
   "cell_type": "code",
   "execution_count": 20,
   "metadata": {},
   "outputs": [],
   "source": [
    "from selenium import webdriver\n",
    "from selenium.webdriver.chrome.options import Options\n",
    "from selenium.webdriver.common.by import By\n",
    "import pandas as pd\n",
    "from datetime import datetime\n",
    "import time\n",
    "import pickle\n",
    "import os"
   ]
  },
  {
   "cell_type": "code",
   "execution_count": 21,
   "metadata": {},
   "outputs": [],
   "source": [
    "opts=Options()\n",
    "opts.add_argument('user-agent=Mozilla/5.0 (Windows NT 10.0; Win64; x64) AppleWebKit/537.36 (KHTML, like Gecko) Chrome/80.0.3987.149 Safari/537.36')"
   ]
  },
  {
   "cell_type": "code",
   "execution_count": 22,
   "metadata": {},
   "outputs": [],
   "source": [
    "links=[['https://origendirecto.com/ecommerce/#/items?category=Aderezos__Aderezos','aderezos'],\n",
    "      ['https://origendirecto.com/ecommerce/#/items?category=Almacen__Almacen','almacen'],\n",
    "      ['https://origendirecto.com/ecommerce/#/items?category=Frutas%2FVerduras__Frutas%2FVerduras','verduras'],\n",
    "      ['https://origendirecto.com/ecommerce/#/items?category=Hamburguesas__Hamburguesas','hamburguesas'],\n",
    "      ['https://origendirecto.com/ecommerce/#/items?category=Infusiones__Infusiones','infusiones'],\n",
    "      ['https://origendirecto.com/ecommerce/#/items?category=Lacteos__Lacteos','lacteos'],\n",
    "      ['https://origendirecto.com/ecommerce/#/items?category=Milanesas__Milanesas','milanesas'],\n",
    "      ['https://origendirecto.com/ecommerce/#/items?category=Panificados__Panificados','panificados'],\n",
    "      ['https://origendirecto.com/ecommerce/#/items?category=Papas__Papas','papas'],\n",
    "      ['https://origendirecto.com/ecommerce/#/items?category=Pastas__Pastas','pastas'],\n",
    "      ['https://origendirecto.com/ecommerce/#/items?category=Postres%2FGolosinas__Postres%2FGolosinas','golosinas'],\n",
    "      ['https://origendirecto.com/ecommerce/#/items?category=QuesosyFiambres__Quesos%2FFiambres%2FSalchichas','queso/fiambres/salchichas']]"
   ]
  },
  {
   "cell_type": "markdown",
   "metadata": {},
   "source": [
    "## Productos"
   ]
  },
  {
   "cell_type": "code",
   "execution_count": 23,
   "metadata": {},
   "outputs": [
    {
     "name": "stderr",
     "output_type": "stream",
     "text": [
      "C:\\Users\\ptojo\\AppData\\Local\\Continuum\\miniconda3\\lib\\site-packages\\ipykernel_launcher.py:1: DeprecationWarning: use options instead of chrome_options\n",
      "  \"\"\"Entry point for launching an IPython kernel.\n"
     ]
    },
    {
     "name": "stdout",
     "output_type": "stream",
     "text": [
      "https://origendirecto.com/ecommerce/#/items?category=Aderezos__Aderezos\n",
      "https://origendirecto.com/ecommerce/#/items?category=Almacen__Almacen\n",
      "https://origendirecto.com/ecommerce/#/items?category=Almacen__Almacen\n",
      "https://origendirecto.com/ecommerce/#/items?category=Frutas%2FVerduras__Frutas%2FVerduras\n",
      "https://origendirecto.com/ecommerce/#/items?category=Hamburguesas__Hamburguesas\n",
      "https://origendirecto.com/ecommerce/#/items?category=Infusiones__Infusiones\n",
      "https://origendirecto.com/ecommerce/#/items?category=Lacteos__Lacteos\n",
      "https://origendirecto.com/ecommerce/#/items?category=Milanesas__Milanesas\n",
      "https://origendirecto.com/ecommerce/#/items?category=Panificados__Panificados\n",
      "https://origendirecto.com/ecommerce/#/items?category=Papas__Papas\n",
      "https://origendirecto.com/ecommerce/#/items?category=Pastas__Pastas\n",
      "https://origendirecto.com/ecommerce/#/items?category=Postres%2FGolosinas__Postres%2FGolosinas\n",
      "https://origendirecto.com/ecommerce/#/items?category=QuesosyFiambres__Quesos%2FFiambres%2FSalchichas\n"
     ]
    }
   ],
   "source": [
    "driver=webdriver.Chrome('./Chromedriver.exe',chrome_options=opts)\n",
    "catalogo={}\n",
    "precios_final=[]\n",
    "productos_final=[]\n",
    "categoria_concat=[]\n",
    "\n",
    "for categoria in links:\n",
    "    driver.get(categoria[0])\n",
    "    driver.refresh()\n",
    "    while True:\n",
    "        time.sleep(8)\n",
    "        print(categoria[0])\n",
    "\n",
    "        productos=driver.find_elements_by_xpath('//p[@class=\"card-text item-name\"]') #Nombre\n",
    "        precios=driver.find_elements_by_xpath('//p[@class=\"card-text item-price mb-0\"]') #Precio\n",
    "        for precio in precios:\n",
    "            posicion_uni=precio.text.find('UNI')\n",
    "            precios_final.append(precio.text[2:posicion_uni])\n",
    "        for producto in productos:\n",
    "            productos_final.append(producto.text)\n",
    "            categoria_concat.append(categoria[1])\n",
    "\n",
    "        boton=driver.find_elements_by_xpath('//a[@class=\"page-link\"]/span[text()=\"»\"]')\n",
    "        try:\n",
    "            boton[1].click()\n",
    "            time.sleep(20)\n",
    "        except:\n",
    "            break;\n",
    "\n",
    "for i in range(len(productos_final)):\n",
    "    catalogo[productos_final[i]]=[categoria_concat[i],precios_final[i]]"
   ]
  },
  {
   "cell_type": "code",
   "execution_count": 24,
   "metadata": {},
   "outputs": [
    {
     "data": {
      "text/html": [
       "<div>\n",
       "<style scoped>\n",
       "    .dataframe tbody tr th:only-of-type {\n",
       "        vertical-align: middle;\n",
       "    }\n",
       "\n",
       "    .dataframe tbody tr th {\n",
       "        vertical-align: top;\n",
       "    }\n",
       "\n",
       "    .dataframe thead th {\n",
       "        text-align: right;\n",
       "    }\n",
       "</style>\n",
       "<table border=\"1\" class=\"dataframe\">\n",
       "  <thead>\n",
       "    <tr style=\"text-align: right;\">\n",
       "      <th></th>\n",
       "      <th>categoria</th>\n",
       "      <th>2020-08-12</th>\n",
       "    </tr>\n",
       "  </thead>\n",
       "  <tbody>\n",
       "    <tr>\n",
       "      <th>KETCHUP NATURA X 3 KG S/TACC</th>\n",
       "      <td>aderezos</td>\n",
       "      <td>337.00</td>\n",
       "    </tr>\n",
       "    <tr>\n",
       "      <th>MAYONESA NATURA 237G S/TACC</th>\n",
       "      <td>aderezos</td>\n",
       "      <td>45.00</td>\n",
       "    </tr>\n",
       "    <tr>\n",
       "      <th>MAYONESA NATURA X 2,755 KG S/TACC</th>\n",
       "      <td>aderezos</td>\n",
       "      <td>294.00</td>\n",
       "    </tr>\n",
       "    <tr>\n",
       "      <th>MAYONESA NATURA X 500CC. S/TACC</th>\n",
       "      <td>aderezos</td>\n",
       "      <td>79.00</td>\n",
       "    </tr>\n",
       "    <tr>\n",
       "      <th>MOSTAZA NATURA X 250CM3</th>\n",
       "      <td>aderezos</td>\n",
       "      <td>46.00</td>\n",
       "    </tr>\n",
       "    <tr>\n",
       "      <th>...</th>\n",
       "      <td>...</td>\n",
       "      <td>...</td>\n",
       "    </tr>\n",
       "    <tr>\n",
       "      <th>SALAMIN PICADO GRUESO LA CASONA 180GR</th>\n",
       "      <td>queso/fiambres/salchichas</td>\n",
       "      <td>158.00</td>\n",
       "    </tr>\n",
       "    <tr>\n",
       "      <th>SALCHICHA ALEMANA FRIOLIM X 5</th>\n",
       "      <td>queso/fiambres/salchichas</td>\n",
       "      <td>166.00</td>\n",
       "    </tr>\n",
       "    <tr>\n",
       "      <th>SALCHICHA UNION GANADERA X 12 Corta (380 Grs.)</th>\n",
       "      <td>queso/fiambres/salchichas</td>\n",
       "      <td>85.00</td>\n",
       "    </tr>\n",
       "    <tr>\n",
       "      <th>SALCHICHA UNION GANADERA X 6 Largas (445 Grs.)</th>\n",
       "      <td>queso/fiambres/salchichas</td>\n",
       "      <td>101.00</td>\n",
       "    </tr>\n",
       "    <tr>\n",
       "      <th>TYBO X 4,9 KG. PAMPA CHEESE</th>\n",
       "      <td>queso/fiambres/salchichas</td>\n",
       "      <td>1700.00</td>\n",
       "    </tr>\n",
       "  </tbody>\n",
       "</table>\n",
       "<p>216 rows × 2 columns</p>\n",
       "</div>"
      ],
      "text/plain": [
       "                                                                categoria  \\\n",
       "KETCHUP NATURA X 3 KG S/TACC                                     aderezos   \n",
       "MAYONESA NATURA 237G S/TACC                                      aderezos   \n",
       "MAYONESA NATURA X 2,755 KG S/TACC                                aderezos   \n",
       "MAYONESA NATURA X 500CC. S/TACC                                  aderezos   \n",
       "MOSTAZA NATURA X 250CM3                                          aderezos   \n",
       "...                                                                   ...   \n",
       "SALAMIN PICADO GRUESO LA CASONA 180GR           queso/fiambres/salchichas   \n",
       "SALCHICHA ALEMANA FRIOLIM X 5                   queso/fiambres/salchichas   \n",
       "SALCHICHA UNION GANADERA X 12 Corta (380 Grs.)  queso/fiambres/salchichas   \n",
       "SALCHICHA UNION GANADERA X 6 Largas (445 Grs.)  queso/fiambres/salchichas   \n",
       "TYBO X 4,9 KG. PAMPA CHEESE                     queso/fiambres/salchichas   \n",
       "\n",
       "                                               2020-08-12  \n",
       "KETCHUP NATURA X 3 KG S/TACC                       337.00  \n",
       "MAYONESA NATURA 237G S/TACC                         45.00  \n",
       "MAYONESA NATURA X 2,755 KG S/TACC                  294.00  \n",
       "MAYONESA NATURA X 500CC. S/TACC                     79.00  \n",
       "MOSTAZA NATURA X 250CM3                             46.00  \n",
       "...                                                   ...  \n",
       "SALAMIN PICADO GRUESO LA CASONA 180GR              158.00  \n",
       "SALCHICHA ALEMANA FRIOLIM X 5                      166.00  \n",
       "SALCHICHA UNION GANADERA X 12 Corta (380 Grs.)      85.00  \n",
       "SALCHICHA UNION GANADERA X 6 Largas (445 Grs.)     101.00  \n",
       "TYBO X 4,9 KG. PAMPA CHEESE                       1700.00  \n",
       "\n",
       "[216 rows x 2 columns]"
      ]
     },
     "execution_count": 24,
     "metadata": {},
     "output_type": "execute_result"
    }
   ],
   "source": [
    "df_catalogo = pd.DataFrame.from_dict(catalogo, orient='index',columns=['categoria',datetime.today().strftime('%Y-%m-%d')])\n",
    "df_catalogo"
   ]
  },
  {
   "cell_type": "code",
   "execution_count": 29,
   "metadata": {},
   "outputs": [],
   "source": [
    "with open('historial_precios.pkl', 'wb') as f_math: #wb: permiso\n",
    "    pickle.dump(df_catalogo, f_math) #f_math es una manera, mientras coincida con el de arriba esta optimo"
   ]
  }
 ],
 "metadata": {
  "kernelspec": {
   "display_name": "Python 3",
   "language": "python",
   "name": "python3"
  },
  "language_info": {
   "codemirror_mode": {
    "name": "ipython",
    "version": 3
   },
   "file_extension": ".py",
   "mimetype": "text/x-python",
   "name": "python",
   "nbconvert_exporter": "python",
   "pygments_lexer": "ipython3",
   "version": "3.8.3"
  }
 },
 "nbformat": 4,
 "nbformat_minor": 4
}
