{
 "cells": [
  {
   "cell_type": "code",
   "execution_count": 6,
   "metadata": {},
   "outputs": [],
   "source": [
    "from selenium import webdriver\n",
    "from selenium.webdriver.chrome.options import Options\n",
    "import pandas as pd\n",
    "from datetime import datetime\n",
    "import time\n",
    "import pickle"
   ]
  },
  {
   "cell_type": "code",
   "execution_count": 7,
   "metadata": {},
   "outputs": [],
   "source": [
    "opts=Options()\n",
    "opts.add_argument('user-agent=Mozilla/5.0 (Windows NT 10.0; Win64; x64) AppleWebKit/537.36 (KHTML, like Gecko) Chrome/80.0.3987.149 Safari/537.36')"
   ]
  },
  {
   "cell_type": "code",
   "execution_count": 8,
   "metadata": {},
   "outputs": [],
   "source": [
    "links=[['https://origendirecto.com/ecommerce/#/items?category=Aderezos__Aderezos','aderezos'],\n",
    "      ['https://origendirecto.com/ecommerce/#/items?category=Almacen__Almacen','almacen'],\n",
    "      ['https://origendirecto.com/ecommerce/#/items?category=Frutas%2FVerduras__Frutas%2FVerduras','verduras'],\n",
    "      ['https://origendirecto.com/ecommerce/#/items?category=Hamburguesas__Hamburguesas','hamburguesas'],\n",
    "      ['https://origendirecto.com/ecommerce/#/items?category=Infusiones__Infusiones','infusiones'],\n",
    "      ['https://origendirecto.com/ecommerce/#/items?category=Lacteos__Lacteos','lacteos'],\n",
    "      ['https://origendirecto.com/ecommerce/#/items?category=Milanesas__Milanesas','milanesas'],\n",
    "      ['https://origendirecto.com/ecommerce/#/items?category=Panificados__Panificados','panificados'],\n",
    "      ['https://origendirecto.com/ecommerce/#/items?category=Papas__Papas','papas'],\n",
    "      ['https://origendirecto.com/ecommerce/#/items?category=Pastas__Pastas','pastas'],\n",
    "      ['https://origendirecto.com/ecommerce/#/items?category=Postres%2FGolosinas__Postres%2FGolosinas','golosinas'],\n",
    "      ['https://origendirecto.com/ecommerce/#/items?category=QuesosyFiambres__Quesos%2FFiambres%2FSalchichas','queso/fiambres/salchichas']]"
   ]
  },
  {
   "cell_type": "code",
   "execution_count": 9,
   "metadata": {},
   "outputs": [
    {
     "name": "stderr",
     "output_type": "stream",
     "text": [
      "<ipython-input-9-8a93b25aa393>:1: DeprecationWarning: use options instead of chrome_options\n",
      "  driver=webdriver.Chrome(chrome_options=opts)\n"
     ]
    }
   ],
   "source": [
    "driver=webdriver.Chrome(chrome_options=opts)\n",
    "catalogo={}\n",
    "precios_final=[]\n",
    "productos_final=[]\n",
    "categoria_concat=[]\n",
    "\n",
    "for categoria in links:\n",
    "    driver.get(categoria[0])\n",
    "    driver.refresh()\n",
    "    while True:\n",
    "        time.sleep(8)\n",
    "        \n",
    "        productos=driver.find_elements_by_xpath('//p[@class=\"card-text item-name\"]') #Nombre\n",
    "        precios=driver.find_elements_by_xpath('//p[@class=\"card-text item-price mb-0\"]') #Precio\n",
    "        for precio in precios:\n",
    "            posicion_uni=precio.text.find('UNI')\n",
    "            precios_final.append(precio.text[2:posicion_uni])\n",
    "        for producto in productos:\n",
    "            productos_final.append(producto.text)\n",
    "            categoria_concat.append(categoria[1])\n",
    "\n",
    "        boton=driver.find_elements_by_xpath('//a[@class=\"page-link\"]/span[text()=\"»\"]')\n",
    "        try:\n",
    "            boton[1].click()\n",
    "            time.sleep(20)\n",
    "        except:\n",
    "            break;\n",
    "\n",
    "for i in range(len(productos_final)):\n",
    "    catalogo[productos_final[i]]=[categoria_concat[i],precios_final[i]]\n",
    "    \n",
    "df_catalogo = pd.DataFrame(zip(productos_final,categoria_concat,precios_final),columns=['productos','categoria',datetime.today().strftime('%Y-%m-%d')])"
   ]
  },
  {
   "cell_type": "code",
   "execution_count": 10,
   "metadata": {},
   "outputs": [],
   "source": [
    "with open('historial_precios.pkl', 'rb') as f_math:\n",
    "    df_historico = pickle.load(f_math)"
   ]
  },
  {
   "cell_type": "code",
   "execution_count": 11,
   "metadata": {},
   "outputs": [],
   "source": [
    "historico_actualizado=pd.concat([df_historico,df_catalogo[['productos','categoria']]])\n",
    "historico_actualizado.drop_duplicates(subset =\"productos\", keep = 'first', inplace = True)"
   ]
  },
  {
   "cell_type": "code",
   "execution_count": 12,
   "metadata": {},
   "outputs": [
    {
     "data": {
      "text/html": [
       "<div>\n",
       "<style scoped>\n",
       "    .dataframe tbody tr th:only-of-type {\n",
       "        vertical-align: middle;\n",
       "    }\n",
       "\n",
       "    .dataframe tbody tr th {\n",
       "        vertical-align: top;\n",
       "    }\n",
       "\n",
       "    .dataframe thead th {\n",
       "        text-align: right;\n",
       "    }\n",
       "</style>\n",
       "<table border=\"1\" class=\"dataframe\">\n",
       "  <thead>\n",
       "    <tr style=\"text-align: right;\">\n",
       "      <th></th>\n",
       "      <th>productos</th>\n",
       "      <th>categoria</th>\n",
       "      <th>2020-08-12</th>\n",
       "      <th>2020-08-13</th>\n",
       "      <th>2020-09-03</th>\n",
       "      <th>2020-09-29</th>\n",
       "    </tr>\n",
       "  </thead>\n",
       "  <tbody>\n",
       "    <tr>\n",
       "      <th>131</th>\n",
       "      <td>MILANESA CERDO UNION GANADERA 700 gr</td>\n",
       "      <td>milanesas</td>\n",
       "      <td>290.00</td>\n",
       "      <td>290.00</td>\n",
       "      <td>290.00</td>\n",
       "      <td>NaN</td>\n",
       "    </tr>\n",
       "    <tr>\n",
       "      <th>240</th>\n",
       "      <td>YOGURT ENTERO FRUTILLA TREGAR X125GR. S/TACC</td>\n",
       "      <td>lacteos</td>\n",
       "      <td>NaN</td>\n",
       "      <td>NaN</td>\n",
       "      <td>21.00</td>\n",
       "      <td>21.00</td>\n",
       "    </tr>\n",
       "    <tr>\n",
       "      <th>133</th>\n",
       "      <td>MILANESA PECETO UNION GANADERA 500 gr</td>\n",
       "      <td>milanesas</td>\n",
       "      <td>265.00</td>\n",
       "      <td>265.00</td>\n",
       "      <td>265.00</td>\n",
       "      <td>265.00</td>\n",
       "    </tr>\n",
       "  </tbody>\n",
       "</table>\n",
       "</div>"
      ],
      "text/plain": [
       "                                        productos  categoria 2020-08-12  \\\n",
       "131          MILANESA CERDO UNION GANADERA 700 gr  milanesas     290.00   \n",
       "240  YOGURT ENTERO FRUTILLA TREGAR X125GR. S/TACC    lacteos        NaN   \n",
       "133         MILANESA PECETO UNION GANADERA 500 gr  milanesas     265.00   \n",
       "\n",
       "    2020-08-13 2020-09-03 2020-09-29  \n",
       "131     290.00     290.00        NaN  \n",
       "240        NaN      21.00      21.00  \n",
       "133     265.00     265.00     265.00  "
      ]
     },
     "execution_count": 12,
     "metadata": {},
     "output_type": "execute_result"
    }
   ],
   "source": [
    "df_historico=pd.merge(historico_actualizado, df_catalogo[['productos',datetime.today().strftime('%Y-%m-%d')]], how='left', on='productos')\n",
    "df_historico.sample(3)"
   ]
  },
  {
   "cell_type": "code",
   "execution_count": 13,
   "metadata": {},
   "outputs": [],
   "source": [
    "with open('historial_precios.pkl', 'wb') as f_math: #wb: permiso\n",
    "    pickle.dump(df_historico, f_math) #f_math es una manera, mientras coincida con el de arriba esta optimo"
   ]
  }
 ],
 "metadata": {
  "kernelspec": {
   "display_name": "Python 3",
   "language": "python",
   "name": "python3"
  },
  "language_info": {
   "codemirror_mode": {
    "name": "ipython",
    "version": 3
   },
   "file_extension": ".py",
   "mimetype": "text/x-python",
   "name": "python",
   "nbconvert_exporter": "python",
   "pygments_lexer": "ipython3",
   "version": "3.8.3"
  }
 },
 "nbformat": 4,
 "nbformat_minor": 4
}
